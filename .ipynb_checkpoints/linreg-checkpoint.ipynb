{
 "cells": [
  {
   "cell_type": "code",
   "execution_count": 91,
   "id": "78c3d571",
   "metadata": {},
   "outputs": [],
   "source": [
    "import pandas as pd\n",
    "import numpy as np\n",
    "import seaborn as sns\n",
    "import matplotlib\n",
    "\n",
    "import matplotlib.pyplot as plt\n",
    "from scipy.stats import skew\n",
    "from scipy.stats.stats import pearsonr\n",
    "\n",
    "# Linear regression is from here:\n",
    "# https://www.kaggle.com/apapiu/regularized-linear-models\n",
    "# I use data analysis techniques from my last python notebook\n",
    "\n",
    "%config InlineBackend.figure_format = 'png'\n",
    "%matplotlib inline"
   ]
  },
  {
   "cell_type": "code",
   "execution_count": 92,
   "id": "953637fd",
   "metadata": {},
   "outputs": [],
   "source": [
    "train = pd.read_csv(\"data/train.csv\")\n",
    "test = pd.read_csv(\"data/test.csv\")"
   ]
  },
  {
   "cell_type": "code",
   "execution_count": 93,
   "id": "945c9b62",
   "metadata": {
    "scrolled": false
   },
   "outputs": [
    {
     "data": {
      "text/html": [
       "<div>\n",
       "<style scoped>\n",
       "    .dataframe tbody tr th:only-of-type {\n",
       "        vertical-align: middle;\n",
       "    }\n",
       "\n",
       "    .dataframe tbody tr th {\n",
       "        vertical-align: top;\n",
       "    }\n",
       "\n",
       "    .dataframe thead th {\n",
       "        text-align: right;\n",
       "    }\n",
       "</style>\n",
       "<table border=\"1\" class=\"dataframe\">\n",
       "  <thead>\n",
       "    <tr style=\"text-align: right;\">\n",
       "      <th></th>\n",
       "      <th>Id</th>\n",
       "      <th>MSSubClass</th>\n",
       "      <th>MSZoning</th>\n",
       "      <th>LotFrontage</th>\n",
       "      <th>LotArea</th>\n",
       "      <th>Street</th>\n",
       "      <th>Alley</th>\n",
       "      <th>LotShape</th>\n",
       "      <th>LandContour</th>\n",
       "      <th>Utilities</th>\n",
       "      <th>...</th>\n",
       "      <th>PoolArea</th>\n",
       "      <th>PoolQC</th>\n",
       "      <th>Fence</th>\n",
       "      <th>MiscFeature</th>\n",
       "      <th>MiscVal</th>\n",
       "      <th>MoSold</th>\n",
       "      <th>YrSold</th>\n",
       "      <th>SaleType</th>\n",
       "      <th>SaleCondition</th>\n",
       "      <th>SalePrice</th>\n",
       "    </tr>\n",
       "  </thead>\n",
       "  <tbody>\n",
       "    <tr>\n",
       "      <th>0</th>\n",
       "      <td>1</td>\n",
       "      <td>60</td>\n",
       "      <td>RL</td>\n",
       "      <td>65.0</td>\n",
       "      <td>8450</td>\n",
       "      <td>Pave</td>\n",
       "      <td>NaN</td>\n",
       "      <td>Reg</td>\n",
       "      <td>Lvl</td>\n",
       "      <td>AllPub</td>\n",
       "      <td>...</td>\n",
       "      <td>0</td>\n",
       "      <td>NaN</td>\n",
       "      <td>NaN</td>\n",
       "      <td>NaN</td>\n",
       "      <td>0</td>\n",
       "      <td>2</td>\n",
       "      <td>2008</td>\n",
       "      <td>WD</td>\n",
       "      <td>Normal</td>\n",
       "      <td>208500</td>\n",
       "    </tr>\n",
       "    <tr>\n",
       "      <th>1</th>\n",
       "      <td>2</td>\n",
       "      <td>20</td>\n",
       "      <td>RL</td>\n",
       "      <td>80.0</td>\n",
       "      <td>9600</td>\n",
       "      <td>Pave</td>\n",
       "      <td>NaN</td>\n",
       "      <td>Reg</td>\n",
       "      <td>Lvl</td>\n",
       "      <td>AllPub</td>\n",
       "      <td>...</td>\n",
       "      <td>0</td>\n",
       "      <td>NaN</td>\n",
       "      <td>NaN</td>\n",
       "      <td>NaN</td>\n",
       "      <td>0</td>\n",
       "      <td>5</td>\n",
       "      <td>2007</td>\n",
       "      <td>WD</td>\n",
       "      <td>Normal</td>\n",
       "      <td>181500</td>\n",
       "    </tr>\n",
       "    <tr>\n",
       "      <th>2</th>\n",
       "      <td>3</td>\n",
       "      <td>60</td>\n",
       "      <td>RL</td>\n",
       "      <td>68.0</td>\n",
       "      <td>11250</td>\n",
       "      <td>Pave</td>\n",
       "      <td>NaN</td>\n",
       "      <td>IR1</td>\n",
       "      <td>Lvl</td>\n",
       "      <td>AllPub</td>\n",
       "      <td>...</td>\n",
       "      <td>0</td>\n",
       "      <td>NaN</td>\n",
       "      <td>NaN</td>\n",
       "      <td>NaN</td>\n",
       "      <td>0</td>\n",
       "      <td>9</td>\n",
       "      <td>2008</td>\n",
       "      <td>WD</td>\n",
       "      <td>Normal</td>\n",
       "      <td>223500</td>\n",
       "    </tr>\n",
       "    <tr>\n",
       "      <th>3</th>\n",
       "      <td>4</td>\n",
       "      <td>70</td>\n",
       "      <td>RL</td>\n",
       "      <td>60.0</td>\n",
       "      <td>9550</td>\n",
       "      <td>Pave</td>\n",
       "      <td>NaN</td>\n",
       "      <td>IR1</td>\n",
       "      <td>Lvl</td>\n",
       "      <td>AllPub</td>\n",
       "      <td>...</td>\n",
       "      <td>0</td>\n",
       "      <td>NaN</td>\n",
       "      <td>NaN</td>\n",
       "      <td>NaN</td>\n",
       "      <td>0</td>\n",
       "      <td>2</td>\n",
       "      <td>2006</td>\n",
       "      <td>WD</td>\n",
       "      <td>Abnorml</td>\n",
       "      <td>140000</td>\n",
       "    </tr>\n",
       "    <tr>\n",
       "      <th>4</th>\n",
       "      <td>5</td>\n",
       "      <td>60</td>\n",
       "      <td>RL</td>\n",
       "      <td>84.0</td>\n",
       "      <td>14260</td>\n",
       "      <td>Pave</td>\n",
       "      <td>NaN</td>\n",
       "      <td>IR1</td>\n",
       "      <td>Lvl</td>\n",
       "      <td>AllPub</td>\n",
       "      <td>...</td>\n",
       "      <td>0</td>\n",
       "      <td>NaN</td>\n",
       "      <td>NaN</td>\n",
       "      <td>NaN</td>\n",
       "      <td>0</td>\n",
       "      <td>12</td>\n",
       "      <td>2008</td>\n",
       "      <td>WD</td>\n",
       "      <td>Normal</td>\n",
       "      <td>250000</td>\n",
       "    </tr>\n",
       "  </tbody>\n",
       "</table>\n",
       "<p>5 rows × 81 columns</p>\n",
       "</div>"
      ],
      "text/plain": [
       "   Id  MSSubClass MSZoning  LotFrontage  LotArea Street Alley LotShape  \\\n",
       "0   1          60       RL         65.0     8450   Pave   NaN      Reg   \n",
       "1   2          20       RL         80.0     9600   Pave   NaN      Reg   \n",
       "2   3          60       RL         68.0    11250   Pave   NaN      IR1   \n",
       "3   4          70       RL         60.0     9550   Pave   NaN      IR1   \n",
       "4   5          60       RL         84.0    14260   Pave   NaN      IR1   \n",
       "\n",
       "  LandContour Utilities  ... PoolArea PoolQC Fence MiscFeature MiscVal MoSold  \\\n",
       "0         Lvl    AllPub  ...        0    NaN   NaN         NaN       0      2   \n",
       "1         Lvl    AllPub  ...        0    NaN   NaN         NaN       0      5   \n",
       "2         Lvl    AllPub  ...        0    NaN   NaN         NaN       0      9   \n",
       "3         Lvl    AllPub  ...        0    NaN   NaN         NaN       0      2   \n",
       "4         Lvl    AllPub  ...        0    NaN   NaN         NaN       0     12   \n",
       "\n",
       "  YrSold  SaleType  SaleCondition  SalePrice  \n",
       "0   2008        WD         Normal     208500  \n",
       "1   2007        WD         Normal     181500  \n",
       "2   2008        WD         Normal     223500  \n",
       "3   2006        WD        Abnorml     140000  \n",
       "4   2008        WD         Normal     250000  \n",
       "\n",
       "[5 rows x 81 columns]"
      ]
     },
     "execution_count": 93,
     "metadata": {},
     "output_type": "execute_result"
    }
   ],
   "source": [
    "train.head()"
   ]
  },
  {
   "cell_type": "code",
   "execution_count": 94,
   "id": "7c54713a",
   "metadata": {},
   "outputs": [],
   "source": [
    "# the guy in the guide applies different transformations. I'll apply the ones from the other thing.\n",
    "all_data = pd.concat((train.loc[:, 'MSSubClass':'SaleCondition'], test.loc[:, 'MSSubClass':'SaleCondition']))"
   ]
  },
  {
   "cell_type": "code",
   "execution_count": 95,
   "id": "25ad0997",
   "metadata": {},
   "outputs": [
    {
     "data": {
      "text/html": [
       "<div>\n",
       "<style scoped>\n",
       "    .dataframe tbody tr th:only-of-type {\n",
       "        vertical-align: middle;\n",
       "    }\n",
       "\n",
       "    .dataframe tbody tr th {\n",
       "        vertical-align: top;\n",
       "    }\n",
       "\n",
       "    .dataframe thead th {\n",
       "        text-align: right;\n",
       "    }\n",
       "</style>\n",
       "<table border=\"1\" class=\"dataframe\">\n",
       "  <thead>\n",
       "    <tr style=\"text-align: right;\">\n",
       "      <th></th>\n",
       "      <th>OverallQual</th>\n",
       "      <th>GrLivArea</th>\n",
       "      <th>GarageCars</th>\n",
       "      <th>TotalBsmtSF</th>\n",
       "      <th>YearBuilt</th>\n",
       "    </tr>\n",
       "  </thead>\n",
       "  <tbody>\n",
       "    <tr>\n",
       "      <th>0</th>\n",
       "      <td>7</td>\n",
       "      <td>1710</td>\n",
       "      <td>2.0</td>\n",
       "      <td>856.0</td>\n",
       "      <td>2003</td>\n",
       "    </tr>\n",
       "    <tr>\n",
       "      <th>1</th>\n",
       "      <td>6</td>\n",
       "      <td>1262</td>\n",
       "      <td>2.0</td>\n",
       "      <td>1262.0</td>\n",
       "      <td>1976</td>\n",
       "    </tr>\n",
       "    <tr>\n",
       "      <th>2</th>\n",
       "      <td>7</td>\n",
       "      <td>1786</td>\n",
       "      <td>2.0</td>\n",
       "      <td>920.0</td>\n",
       "      <td>2001</td>\n",
       "    </tr>\n",
       "    <tr>\n",
       "      <th>3</th>\n",
       "      <td>7</td>\n",
       "      <td>1717</td>\n",
       "      <td>3.0</td>\n",
       "      <td>756.0</td>\n",
       "      <td>1915</td>\n",
       "    </tr>\n",
       "    <tr>\n",
       "      <th>4</th>\n",
       "      <td>8</td>\n",
       "      <td>2198</td>\n",
       "      <td>3.0</td>\n",
       "      <td>1145.0</td>\n",
       "      <td>2000</td>\n",
       "    </tr>\n",
       "  </tbody>\n",
       "</table>\n",
       "</div>"
      ],
      "text/plain": [
       "   OverallQual  GrLivArea  GarageCars  TotalBsmtSF  YearBuilt\n",
       "0            7       1710         2.0        856.0       2003\n",
       "1            6       1262         2.0       1262.0       1976\n",
       "2            7       1786         2.0        920.0       2001\n",
       "3            7       1717         3.0        756.0       1915\n",
       "4            8       2198         3.0       1145.0       2000"
      ]
     },
     "execution_count": 95,
     "metadata": {},
     "output_type": "execute_result"
    }
   ],
   "source": [
    "# Select Variables I looked at before.\n",
    "# I'm going to do a simple model with only these variables.\n",
    "# In his guide, he simply log(1+x) every variabl. I'm going to apply the transformations that I did\n",
    "# in my other guide and look at a simple model. I don't know if this is good or not, but\n",
    "# if this simple model is accurate, I honestly prefer it over a more complex one.\n",
    "vars = ['OverallQual', 'GrLivArea', 'GarageCars', 'TotalBsmtSF', 'YearBuilt']\n",
    "o_vars = ['SalePrice', 'OverallQual', 'GrLivArea', 'GarageCars', 'TotalBsmtSF', 'YearBuilt']\n",
    "all_data = all_data.loc[:,vars]\n",
    "train = train.loc[:, o_vars]\n",
    "# test = test.loc[:, o_vars]\n",
    "# uhh why does test not have SalePrice...oh that's how kaggle works...ahhh\n",
    "all_data.head()"
   ]
  },
  {
   "cell_type": "code",
   "execution_count": 96,
   "id": "61806956",
   "metadata": {},
   "outputs": [
    {
     "data": {
      "text/plain": [
       "GarageCars     1\n",
       "TotalBsmtSF    1\n",
       "OverallQual    0\n",
       "GrLivArea      0\n",
       "YearBuilt      0\n",
       "dtype: int64"
      ]
     },
     "execution_count": 96,
     "metadata": {},
     "output_type": "execute_result"
    }
   ],
   "source": [
    "a = all_data.isnull().sum(axis=0)\n",
    "total = a.sort_values(ascending=False)\n",
    "total.head(5)\n",
    "\n",
    "# 1 Observation missing for TotalBsmtSF and GarageCars. We'll fill it cuz it's in the test set."
   ]
  },
  {
   "cell_type": "code",
   "execution_count": 97,
   "id": "6c67c489",
   "metadata": {},
   "outputs": [
    {
     "data": {
      "text/plain": [
       "0"
      ]
     },
     "execution_count": 97,
     "metadata": {},
     "output_type": "execute_result"
    }
   ],
   "source": [
    "# all_data = all_data.drop(all_data.loc[all_data['TotalBsmtSF'].isnull()].index)\n",
    "# all_data = all_data.drop(all_data.loc[all_data['GarageCars'].isnull()].index)\n",
    "all_data = all_data.fillna(all_data.mean())\n",
    "all_data.isnull().sum().max()"
   ]
  },
  {
   "cell_type": "code",
   "execution_count": 98,
   "id": "c3cf9a17",
   "metadata": {},
   "outputs": [],
   "source": [
    "# ok now that I think about it, I went about things a bit badly...really gotta plan ahead\n",
    "# its ok I just want to build out the model at this moment. Let's just apply transformations."
   ]
  },
  {
   "cell_type": "code",
   "execution_count": 99,
   "id": "e29f660b",
   "metadata": {},
   "outputs": [],
   "source": [
    "# Log transform saleprice for the train data??\n",
    "train['SalePrice'] = np.log(train[\"SalePrice\"])"
   ]
  },
  {
   "cell_type": "code",
   "execution_count": 100,
   "id": "db94bbf0",
   "metadata": {},
   "outputs": [],
   "source": [
    "# other transforms\n",
    "train['GrLivArea'] = np.log(train['GrLivArea'])"
   ]
  },
  {
   "cell_type": "code",
   "execution_count": 101,
   "id": "ca647890",
   "metadata": {},
   "outputs": [],
   "source": [
    "# last transform. I think for this one, I'll do the log1p thing from this guide. It sounds fun.\n",
    "train['TotalBsmtSF'] = np.log1p(train['TotalBsmtSF'])"
   ]
  },
  {
   "cell_type": "code",
   "execution_count": 102,
   "id": "f35e2daf",
   "metadata": {},
   "outputs": [
    {
     "data": {
      "text/html": [
       "<div>\n",
       "<style scoped>\n",
       "    .dataframe tbody tr th:only-of-type {\n",
       "        vertical-align: middle;\n",
       "    }\n",
       "\n",
       "    .dataframe tbody tr th {\n",
       "        vertical-align: top;\n",
       "    }\n",
       "\n",
       "    .dataframe thead th {\n",
       "        text-align: right;\n",
       "    }\n",
       "</style>\n",
       "<table border=\"1\" class=\"dataframe\">\n",
       "  <thead>\n",
       "    <tr style=\"text-align: right;\">\n",
       "      <th></th>\n",
       "      <th>OverallQual</th>\n",
       "      <th>GrLivArea</th>\n",
       "      <th>GarageCars</th>\n",
       "      <th>TotalBsmtSF</th>\n",
       "      <th>YearBuilt</th>\n",
       "    </tr>\n",
       "  </thead>\n",
       "  <tbody>\n",
       "    <tr>\n",
       "      <th>0</th>\n",
       "      <td>7</td>\n",
       "      <td>1710</td>\n",
       "      <td>2.0</td>\n",
       "      <td>856.0</td>\n",
       "      <td>2003</td>\n",
       "    </tr>\n",
       "    <tr>\n",
       "      <th>1</th>\n",
       "      <td>6</td>\n",
       "      <td>1262</td>\n",
       "      <td>2.0</td>\n",
       "      <td>1262.0</td>\n",
       "      <td>1976</td>\n",
       "    </tr>\n",
       "    <tr>\n",
       "      <th>2</th>\n",
       "      <td>7</td>\n",
       "      <td>1786</td>\n",
       "      <td>2.0</td>\n",
       "      <td>920.0</td>\n",
       "      <td>2001</td>\n",
       "    </tr>\n",
       "    <tr>\n",
       "      <th>3</th>\n",
       "      <td>7</td>\n",
       "      <td>1717</td>\n",
       "      <td>3.0</td>\n",
       "      <td>756.0</td>\n",
       "      <td>1915</td>\n",
       "    </tr>\n",
       "    <tr>\n",
       "      <th>4</th>\n",
       "      <td>8</td>\n",
       "      <td>2198</td>\n",
       "      <td>3.0</td>\n",
       "      <td>1145.0</td>\n",
       "      <td>2000</td>\n",
       "    </tr>\n",
       "  </tbody>\n",
       "</table>\n",
       "</div>"
      ],
      "text/plain": [
       "   OverallQual  GrLivArea  GarageCars  TotalBsmtSF  YearBuilt\n",
       "0            7       1710         2.0        856.0       2003\n",
       "1            6       1262         2.0       1262.0       1976\n",
       "2            7       1786         2.0        920.0       2001\n",
       "3            7       1717         3.0        756.0       1915\n",
       "4            8       2198         3.0       1145.0       2000"
      ]
     },
     "execution_count": 102,
     "metadata": {},
     "output_type": "execute_result"
    }
   ],
   "source": [
    "all_data.head() # uhhh"
   ]
  },
  {
   "cell_type": "code",
   "execution_count": 103,
   "id": "f426b398",
   "metadata": {},
   "outputs": [],
   "source": [
    "all_data = pd.get_dummies(all_data)"
   ]
  },
  {
   "cell_type": "code",
   "execution_count": 104,
   "id": "515fff92",
   "metadata": {},
   "outputs": [],
   "source": [
    "X_train = all_data[:train.shape[0]]\n",
    "X_test = all_data[train.shape[0]:]\n",
    "# Train.shape gives the shape of the matrix(rowsxcols), accessing the 0th element of the tuple gives us the number of rows.\n",
    "# So we just kinda separated the data by rows and yeah we're done here.\n",
    "y = train.SalePrice"
   ]
  },
  {
   "cell_type": "code",
   "execution_count": 105,
   "id": "3eaf7d94",
   "metadata": {},
   "outputs": [],
   "source": [
    "from sklearn import datasets, linear_model\n",
    "from sklearn.metrics import mean_squared_error, r2_score"
   ]
  },
  {
   "cell_type": "code",
   "execution_count": 106,
   "id": "3f64795d",
   "metadata": {},
   "outputs": [],
   "source": [
    "regr = linear_model.LinearRegression()"
   ]
  },
  {
   "cell_type": "code",
   "execution_count": 107,
   "id": "c52373c8",
   "metadata": {},
   "outputs": [
    {
     "data": {
      "text/plain": [
       "LinearRegression()"
      ]
     },
     "execution_count": 107,
     "metadata": {},
     "output_type": "execute_result"
    }
   ],
   "source": [
    "regr.fit(X_train, y)"
   ]
  },
  {
   "cell_type": "code",
   "execution_count": 108,
   "id": "72e8696a",
   "metadata": {},
   "outputs": [],
   "source": [
    "y_pred = regr.predict(X_train)"
   ]
  },
  {
   "cell_type": "code",
   "execution_count": 109,
   "id": "77c2afda",
   "metadata": {},
   "outputs": [
    {
     "name": "stdout",
     "output_type": "stream",
     "text": [
      "Coefficients: \n",
      "              0         0\n",
      "0  OverallQual  0.102888\n",
      "1    GrLivArea  0.000240\n",
      "2   GarageCars  0.087753\n",
      "3  TotalBsmtSF  0.000124\n",
      "4    YearBuilt  0.002360\n",
      "Mean Squared Error for training set: 0.029994381604057305\n"
     ]
    }
   ],
   "source": [
    "# coefficients\n",
    "coeffs = pd.concat([pd.DataFrame(X_train.columns), pd.DataFrame(regr.coef_)], axis=1)\n",
    "print(\"Coefficients: \\n\", coeffs)\n",
    "print('Mean Squared Error for training set:', mean_squared_error(y, y_pred))\n",
    "# mean squared error is so low...I wonder if the model is overfitted...?"
   ]
  },
  {
   "cell_type": "code",
   "execution_count": 110,
   "id": "81fe8bbf",
   "metadata": {},
   "outputs": [],
   "source": [
    "test_pred = regr.predict(X_test)"
   ]
  },
  {
   "cell_type": "code",
   "execution_count": 111,
   "id": "6ef6fef5",
   "metadata": {},
   "outputs": [
    {
     "data": {
      "text/plain": [
       "array([114581.76890874, 147860.37392701, 163301.2251185 , ...,\n",
       "       140847.01557964, 115371.3849057 , 239159.52329116])"
      ]
     },
     "execution_count": 111,
     "metadata": {},
     "output_type": "execute_result"
    }
   ],
   "source": [
    "test_pred = np.exp(test_pred)\n",
    "test_pred\n",
    "# Looks about right..."
   ]
  },
  {
   "cell_type": "code",
   "execution_count": 112,
   "id": "8e2f1ccc",
   "metadata": {},
   "outputs": [
    {
     "data": {
      "text/plain": [
       "1459"
      ]
     },
     "execution_count": 112,
     "metadata": {},
     "output_type": "execute_result"
    }
   ],
   "source": [
    "len(test_pred)\n",
    "# FCK I PROBABLY REMOVED SOME ROWS OH NOOOO\n",
    "# Ok we removed like 2 things total we just gotta...not remove them lol"
   ]
  },
  {
   "cell_type": "code",
   "execution_count": 113,
   "id": "3548c88c",
   "metadata": {},
   "outputs": [
    {
     "data": {
      "text/plain": [
       "0       1461\n",
       "1       1462\n",
       "2       1463\n",
       "3       1464\n",
       "4       1465\n",
       "        ... \n",
       "1454    2915\n",
       "1455    2916\n",
       "1456    2917\n",
       "1457    2918\n",
       "1458    2919\n",
       "Name: Id, Length: 1459, dtype: int64"
      ]
     },
     "execution_count": 113,
     "metadata": {},
     "output_type": "execute_result"
    }
   ],
   "source": [
    "# SHEEEESH MOMENT OF TRUTH\n",
    "# nvm we need id...\n",
    "var123 = test['Id']\n",
    "var123\n",
    "# cool..."
   ]
  },
  {
   "cell_type": "code",
   "execution_count": 114,
   "id": "2a7733ec",
   "metadata": {},
   "outputs": [
    {
     "data": {
      "text/html": [
       "<div>\n",
       "<style scoped>\n",
       "    .dataframe tbody tr th:only-of-type {\n",
       "        vertical-align: middle;\n",
       "    }\n",
       "\n",
       "    .dataframe tbody tr th {\n",
       "        vertical-align: top;\n",
       "    }\n",
       "\n",
       "    .dataframe thead th {\n",
       "        text-align: right;\n",
       "    }\n",
       "</style>\n",
       "<table border=\"1\" class=\"dataframe\">\n",
       "  <thead>\n",
       "    <tr style=\"text-align: right;\">\n",
       "      <th></th>\n",
       "      <th>Id</th>\n",
       "      <th>SalePrice</th>\n",
       "    </tr>\n",
       "  </thead>\n",
       "  <tbody>\n",
       "    <tr>\n",
       "      <th>0</th>\n",
       "      <td>1461</td>\n",
       "      <td>114581.768909</td>\n",
       "    </tr>\n",
       "    <tr>\n",
       "      <th>1</th>\n",
       "      <td>1462</td>\n",
       "      <td>147860.373927</td>\n",
       "    </tr>\n",
       "    <tr>\n",
       "      <th>2</th>\n",
       "      <td>1463</td>\n",
       "      <td>163301.225118</td>\n",
       "    </tr>\n",
       "    <tr>\n",
       "      <th>3</th>\n",
       "      <td>1464</td>\n",
       "      <td>180295.529899</td>\n",
       "    </tr>\n",
       "    <tr>\n",
       "      <th>4</th>\n",
       "      <td>1465</td>\n",
       "      <td>211074.910724</td>\n",
       "    </tr>\n",
       "  </tbody>\n",
       "</table>\n",
       "</div>"
      ],
      "text/plain": [
       "     Id      SalePrice\n",
       "0  1461  114581.768909\n",
       "1  1462  147860.373927\n",
       "2  1463  163301.225118\n",
       "3  1464  180295.529899\n",
       "4  1465  211074.910724"
      ]
     },
     "execution_count": 114,
     "metadata": {},
     "output_type": "execute_result"
    }
   ],
   "source": [
    "var234 = pd.concat([var123, pd.Series(test_pred)], axis=1)\n",
    "var234.columns = ['Id', 'SalePrice']\n",
    "var234.head()"
   ]
  },
  {
   "cell_type": "code",
   "execution_count": 115,
   "id": "e204ee4a",
   "metadata": {},
   "outputs": [],
   "source": [
    "# pray this model ain't overfit :P\n",
    "var234.to_csv('submission1.csv', index=False)\n",
    "# ok we got the set. MOMENT OF TRUTHHH"
   ]
  },
  {
   "cell_type": "code",
   "execution_count": 116,
   "id": "8cafb8f6",
   "metadata": {},
   "outputs": [
    {
     "data": {
      "text/plain": [
       "5"
      ]
     },
     "execution_count": 116,
     "metadata": {},
     "output_type": "execute_result"
    },
    {
     "data": {
      "text/plain": [
       "<Figure size 432x288 with 0 Axes>"
      ]
     },
     "metadata": {},
     "output_type": "display_data"
    }
   ],
   "source": [
    "# Wow...0.17155 RMSLE on the test set...\n",
    "# considering I did a simple linear regression with 5 variables, not bad...\n",
    "# Maybe i'll add more variables, I'll look into interaction terms?? Who knows?\n",
    "# Let's look deeper into these variables. I'm going back to my other notebook.\n",
    "# I want to graph SalePrice on Y, GrLivArea on X, GarageCars in colors\n",
    "\n",
    "# ok how do I do this??\n",
    "# train['GarageCars'].max() max is 4\n",
    "fig = plt.figure()\n",
    "datafrmes = []\n",
    "for i in range(0, 5):\n",
    "    datafrmes.append(train[train['GarageCars'] == i][['SalePrice', 'GrLivArea']])\n",
    "len(datafrmes)\n",
    "# ok I successfully grouped stuff...time to graph\n",
    "# Remember the train values aren't logged. Shouldn't be a problem, in fact the charts will actually make sense\n",
    "# However, to fit the model, remember to not use this set..."
   ]
  },
  {
   "cell_type": "code",
   "execution_count": 117,
   "id": "bfb797e5",
   "metadata": {},
   "outputs": [
    {
     "data": {
      "text/plain": [
       "<matplotlib.legend.Legend at 0x1689b66f5e0>"
      ]
     },
     "execution_count": 117,
     "metadata": {},
     "output_type": "execute_result"
    },
    {
     "data": {
      "image/png": "[encoded data removed]",
      "text/plain": [
       "<Figure size 432x288 with 1 Axes>"
      ]
     },
     "metadata": {
      "needs_background": "light"
     },
     "output_type": "display_data"
    }
   ],
   "source": [
    "import matplotlib.cm as cm\n",
    "import matplotlib.patches as mpatches\n",
    "\n",
    "colors = cm.rainbow(np.linspace(0, 1, len(datafrmes)))\n",
    "legend = []\n",
    "# colors and datafrmes have the same length\n",
    "for i in range(0, len(colors)):\n",
    "    set_x = datafrmes[i]['GrLivArea']\n",
    "    set_y = datafrmes[i]['SalePrice']\n",
    "    plt.scatter(x=set_x, y=set_y, color=colors[i])\n",
    "    legend.append(mpatches.Patch(color=colors[i], label=str(i)))\n",
    "    \n",
    "plt.legend(handles=legend)"
   ]
  },
  {
   "cell_type": "code",
   "execution_count": 118,
   "id": "bb40754c",
   "metadata": {},
   "outputs": [
    {
     "data": {
      "text/plain": [
       "array([[7.000000e+00, 1.710000e+03, 2.000000e+00, ..., 1.712000e+03,\n",
       "        4.006000e+03, 1.714568e+06],\n",
       "       [6.000000e+00, 1.262000e+03, 2.000000e+00, ..., 2.524000e+03,\n",
       "        3.952000e+03, 2.493712e+06],\n",
       "       [7.000000e+00, 1.786000e+03, 2.000000e+00, ..., 1.840000e+03,\n",
       "        4.002000e+03, 1.840920e+06],\n",
       "       ...,\n",
       "       [7.000000e+00, 2.340000e+03, 1.000000e+00, ..., 1.152000e+03,\n",
       "        1.941000e+03, 2.236032e+06],\n",
       "       [5.000000e+00, 1.078000e+03, 1.000000e+00, ..., 1.078000e+03,\n",
       "        1.950000e+03, 2.102100e+06],\n",
       "       [5.000000e+00, 1.256000e+03, 1.000000e+00, ..., 1.256000e+03,\n",
       "        1.965000e+03, 2.468040e+06]])"
      ]
     },
     "execution_count": 118,
     "metadata": {},
     "output_type": "execute_result"
    }
   ],
   "source": [
    "# OK so SalePrice is logged(ln800000 ~ 13.5). Even if the slope of these things are slightly different,\n",
    "# It still makes a huge difference to the predicted saleprice. Maybe we should add an interaction term.\n",
    "# Is that even appropriate here?? Technically GarageCars is a nominal categorical variable...\n",
    "# Let's just do it.\n",
    "# Polynomial interaction terms? Whaaat\n",
    "\n",
    "from sklearn.preprocessing import PolynomialFeatures\n",
    "\n",
    "poly = PolynomialFeatures(interaction_only=True, include_bias=False)\n",
    "X_inter = poly.fit_transform(X_train)\n",
    "X_inter\n",
    "# What have I done..."
   ]
  },
  {
   "cell_type": "code",
   "execution_count": 119,
   "id": "3fa52b7d",
   "metadata": {},
   "outputs": [
    {
     "data": {
      "text/plain": [
       "LinearRegression()"
      ]
     },
     "execution_count": 119,
     "metadata": {},
     "output_type": "execute_result"
    }
   ],
   "source": [
    "clf = linear_model.LinearRegression()\n",
    "clf.fit(X_inter, y)"
   ]
  },
  {
   "cell_type": "code",
   "execution_count": 121,
   "id": "24ab0536",
   "metadata": {},
   "outputs": [
    {
     "name": "stdout",
     "output_type": "stream",
     "text": [
      "Coefficients: \n",
      "               0             0\n",
      "0   OverallQual  1.417235e+00\n",
      "1     GrLivArea -1.416952e-03\n",
      "2    GarageCars  2.119870e-01\n",
      "3   TotalBsmtSF  4.944027e-04\n",
      "4     YearBuilt  5.396725e-03\n",
      "5           NaN  9.429814e-06\n",
      "6           NaN  1.097066e-02\n",
      "7           NaN  4.713550e-05\n",
      "8           NaN -7.147919e-04\n",
      "9           NaN  3.193041e-07\n",
      "10          NaN -1.852328e-07\n",
      "11          NaN  9.332953e-07\n",
      "12          NaN -5.224642e-05\n",
      "13          NaN -7.903973e-05\n",
      "14          NaN -9.701754e-08\n",
      "<bound method PolynomialFeatures.get_feature_names of PolynomialFeatures(include_bias=False, interaction_only=True)>\n",
      "Mean Squared Error for training set: 0.024441294369004312\n"
     ]
    }
   ],
   "source": [
    "y_pred2 = clf.predict(X_inter)\n",
    "# coefficients\n",
    "coeffs = pd.concat([pd.DataFrame(X_train.columns), pd.DataFrame(clf.coef_)], axis=1)\n",
    "print(\"Coefficients: \\n\", coeffs)\n",
    "print('Mean Squared Error for training set:', mean_squared_error(y, y_pred2))\n",
    "\n",
    "# ohh I think I know what's happening now...\n",
    "# the polynomialfeatures transforms the data to add interaction terms, and then the linear model fits it. Ahhhhh\n",
    "# Well out MSE is lower...let's try it on the test set?"
   ]
  },
  {
   "cell_type": "code",
   "execution_count": 122,
   "id": "01307c87",
   "metadata": {},
   "outputs": [],
   "source": [
    "X_test_inter = poly.fit_transform(X_test)\n",
    "test_pred2 = clf.predict(X_test_inter)"
   ]
  },
  {
   "cell_type": "code",
   "execution_count": 123,
   "id": "19bbc64d",
   "metadata": {},
   "outputs": [
    {
     "data": {
      "text/plain": [
       "array([114046.81795917, 158938.37041702, 170443.04193436, ...,\n",
       "       143874.83955333, 119721.90931688, 242070.93569521])"
      ]
     },
     "execution_count": 123,
     "metadata": {},
     "output_type": "execute_result"
    }
   ],
   "source": [
    "test_pred2 = np.exp(test_pred2)\n",
    "test_pred2"
   ]
  },
  {
   "cell_type": "code",
   "execution_count": 124,
   "id": "cb715c11",
   "metadata": {},
   "outputs": [
    {
     "data": {
      "text/html": [
       "<div>\n",
       "<style scoped>\n",
       "    .dataframe tbody tr th:only-of-type {\n",
       "        vertical-align: middle;\n",
       "    }\n",
       "\n",
       "    .dataframe tbody tr th {\n",
       "        vertical-align: top;\n",
       "    }\n",
       "\n",
       "    .dataframe thead th {\n",
       "        text-align: right;\n",
       "    }\n",
       "</style>\n",
       "<table border=\"1\" class=\"dataframe\">\n",
       "  <thead>\n",
       "    <tr style=\"text-align: right;\">\n",
       "      <th></th>\n",
       "      <th>Id</th>\n",
       "      <th>SalePrice</th>\n",
       "    </tr>\n",
       "  </thead>\n",
       "  <tbody>\n",
       "    <tr>\n",
       "      <th>0</th>\n",
       "      <td>1461</td>\n",
       "      <td>114046.817959</td>\n",
       "    </tr>\n",
       "    <tr>\n",
       "      <th>1</th>\n",
       "      <td>1462</td>\n",
       "      <td>158938.370417</td>\n",
       "    </tr>\n",
       "    <tr>\n",
       "      <th>2</th>\n",
       "      <td>1463</td>\n",
       "      <td>170443.041934</td>\n",
       "    </tr>\n",
       "    <tr>\n",
       "      <th>3</th>\n",
       "      <td>1464</td>\n",
       "      <td>181804.187119</td>\n",
       "    </tr>\n",
       "    <tr>\n",
       "      <th>4</th>\n",
       "      <td>1465</td>\n",
       "      <td>209303.671161</td>\n",
       "    </tr>\n",
       "  </tbody>\n",
       "</table>\n",
       "</div>"
      ],
      "text/plain": [
       "     Id      SalePrice\n",
       "0  1461  114046.817959\n",
       "1  1462  158938.370417\n",
       "2  1463  170443.041934\n",
       "3  1464  181804.187119\n",
       "4  1465  209303.671161"
      ]
     },
     "execution_count": 124,
     "metadata": {},
     "output_type": "execute_result"
    }
   ],
   "source": [
    "var123 = test['Id']\n",
    "var234 = pd.concat([var123, pd.Series(test_pred2)], axis=1)\n",
    "var234.columns = ['Id', 'SalePrice']\n",
    "var234.head()"
   ]
  },
  {
   "cell_type": "code",
   "execution_count": 125,
   "id": "1056705a",
   "metadata": {},
   "outputs": [],
   "source": [
    "var234.to_csv('submission2.csv', index=False)"
   ]
  },
  {
   "cell_type": "code",
   "execution_count": 126,
   "id": "b48e3648",
   "metadata": {},
   "outputs": [
    {
     "data": {
      "text/plain": [
       "['x0',\n",
       " 'x1',\n",
       " 'x2',\n",
       " 'x3',\n",
       " 'x4',\n",
       " 'x0 x1',\n",
       " 'x0 x2',\n",
       " 'x0 x3',\n",
       " 'x0 x4',\n",
       " 'x1 x2',\n",
       " 'x1 x3',\n",
       " 'x1 x4',\n",
       " 'x2 x3',\n",
       " 'x2 x4',\n",
       " 'x3 x4']"
      ]
     },
     "execution_count": 126,
     "metadata": {},
     "output_type": "execute_result"
    }
   ],
   "source": [
    "# 0.16139 RMSLE\n",
    "# Getting better.\n",
    "poly.get_feature_names()\n",
    "# Ok so we can kinda look at...how this worked out I guess...\n",
    "# model is still transparent."
   ]
  },
  {
   "cell_type": "code",
   "execution_count": 127,
   "id": "d23eb7d1",
   "metadata": {},
   "outputs": [],
   "source": [
    "# FINAL THOUGHTS\n",
    "# I'm going to try a lasso model, and that's all.\n",
    "# I'm not going to pretend I know what I'm doing, I'm just going to stop here.\n",
    "# If I'm going to apply my stats skills to other problems, I want to know what my models are doing.\n",
    "# I value transparency in my models(maybe because I don't understand what's going on otherwise), so\n",
    "# I'll just stop here and leave the more advanced stuff for my future self."
   ]
  },
  {
   "cell_type": "code",
   "execution_count": null,
   "id": "2f3888c8",
   "metadata": {},
   "outputs": [],
   "source": []
  }
 ],
 "metadata": {
  "kernelspec": {
   "display_name": "Python 3",
   "language": "python",
   "name": "python3"
  },
  "language_info": {
   "codemirror_mode": {
    "name": "ipython",
    "version": 3
   },
   "file_extension": ".py",
   "mimetype": "text/x-python",
   "name": "python",
   "nbconvert_exporter": "python",
   "pygments_lexer": "ipython3",
   "version": "3.9.1"
  }
 },
 "nbformat": 4,
 "nbformat_minor": 5
}
